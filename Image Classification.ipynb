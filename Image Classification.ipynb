{
 "cells": [
  {
   "cell_type": "markdown",
   "id": "333acb74",
   "metadata": {},
   "source": [
    "# Image Classification\n",
    "This notebook deals with the image classification portion of the final project. We'll be utilizing a Convolutional Neural Network from the Tensorflow framework."
   ]
  },
  {
   "cell_type": "code",
   "execution_count": 1,
   "id": "2ba3ac34",
   "metadata": {},
   "outputs": [],
   "source": [
    "import pandas as pd\n",
    "import numpy as np\n",
    "from matplotlib import image\n",
    "from IPython.display import clear_output\n",
    "import os\n",
    "import shutil\n",
    "import tensorflow as tf\n",
    "from tensorflow.keras import layers, models\n",
    "from tensorflow.keras.preprocessing import image_dataset_from_directory"
   ]
  },
  {
   "cell_type": "code",
   "execution_count": 2,
   "id": "7e118184",
   "metadata": {},
   "outputs": [
    {
     "data": {
      "text/plain": [
       "0"
      ]
     },
     "execution_count": 2,
     "metadata": {},
     "output_type": "execute_result"
    }
   ],
   "source": [
    "len(tf.config.list_physical_devices('GPU'))"
   ]
  },
  {
   "cell_type": "markdown",
   "id": "8de79a76",
   "metadata": {},
   "source": [
    "## Prepping our data\n",
    "We'll need split our images into train and test sets. To do this we'll create two new directories, train_images and test_images. We'll make a function to make theses directories."
   ]
  },
  {
   "cell_type": "code",
   "execution_count": 3,
   "id": "14da0135",
   "metadata": {},
   "outputs": [],
   "source": [
    "def makeFolder(subfolder):\n",
    "    parent_dir = os.getcwd()\n",
    "    path = os.path.join(parent_dir,subfolder)\n",
    "    try:\n",
    "        os.mkdir(path)\n",
    "        print('Successfully made directory.')\n",
    "    except OSError as error:\n",
    "        print(error)"
   ]
  },
  {
   "cell_type": "markdown",
   "id": "1c01b57e",
   "metadata": {},
   "source": [
    "Now we'll make the directories."
   ]
  },
  {
   "cell_type": "code",
   "execution_count": 4,
   "id": "614948fa",
   "metadata": {},
   "outputs": [
    {
     "name": "stdout",
     "output_type": "stream",
     "text": [
      "[WinError 183] Cannot create a file when that file already exists: 'C:\\\\Users\\\\sulli\\\\Code\\\\Python\\\\Data Mining\\\\Final Project\\\\train_images'\n",
      "[WinError 183] Cannot create a file when that file already exists: 'C:\\\\Users\\\\sulli\\\\Code\\\\Python\\\\Data Mining\\\\Final Project\\\\test_images'\n"
     ]
    }
   ],
   "source": [
    "makeFolder('train_images')\n",
    "makeFolder('test_images')"
   ]
  },
  {
   "cell_type": "markdown",
   "id": "d37438a4",
   "metadata": {},
   "source": [
    "We'll create a function to copy to the directory."
   ]
  },
  {
   "cell_type": "code",
   "execution_count": 5,
   "id": "b03690eb",
   "metadata": {},
   "outputs": [],
   "source": [
    "def copyDir(destination):\n",
    "    current = os.getcwd()\n",
    "    for sub in ['animal_crossing','doom']:\n",
    "        try:\n",
    "            shutil.copytree(f'{current}\\\\{sub}',f'{current}\\\\{destination}\\\\{sub}')\n",
    "            print(f'Successfully copied {sub} to {destination}')\n",
    "        except OSError as error:\n",
    "            print(error)"
   ]
  },
  {
   "cell_type": "markdown",
   "id": "f3f46bc2",
   "metadata": {},
   "source": [
    "Now we'll copy to our directory."
   ]
  },
  {
   "cell_type": "code",
   "execution_count": 6,
   "id": "833bfecc",
   "metadata": {},
   "outputs": [
    {
     "name": "stdout",
     "output_type": "stream",
     "text": [
      "[WinError 183] Cannot create a file when that file already exists: 'C:\\\\Users\\\\sulli\\\\Code\\\\Python\\\\Data Mining\\\\Final Project\\\\train_images\\\\animal_crossing'\n",
      "[WinError 183] Cannot create a file when that file already exists: 'C:\\\\Users\\\\sulli\\\\Code\\\\Python\\\\Data Mining\\\\Final Project\\\\train_images\\\\doom'\n",
      "[WinError 183] Cannot create a file when that file already exists: 'C:\\\\Users\\\\sulli\\\\Code\\\\Python\\\\Data Mining\\\\Final Project\\\\test_images\\\\animal_crossing'\n",
      "[WinError 183] Cannot create a file when that file already exists: 'C:\\\\Users\\\\sulli\\\\Code\\\\Python\\\\Data Mining\\\\Final Project\\\\test_images\\\\doom'\n"
     ]
    }
   ],
   "source": [
    "copyDir('train_images')\n",
    "copyDir('test_images')"
   ]
  },
  {
   "cell_type": "markdown",
   "id": "dd802b47",
   "metadata": {},
   "source": [
    "Next we get our image file names for each."
   ]
  },
  {
   "cell_type": "code",
   "execution_count": 7,
   "id": "e3b01547",
   "metadata": {},
   "outputs": [],
   "source": [
    "train = pd.read_csv('train.csv')['filename']\n",
    "test = pd.read_csv('test.csv')['filename']"
   ]
  },
  {
   "cell_type": "markdown",
   "id": "f407eb75",
   "metadata": {},
   "source": [
    "Now we'll loop through our directories and remove the files not in the specified list."
   ]
  },
  {
   "cell_type": "code",
   "execution_count": 8,
   "id": "3a0784c3",
   "metadata": {},
   "outputs": [],
   "source": [
    "def removeFilesNotInList(array,folder):\n",
    "    flist = array.tolist()\n",
    "    for sub in ['animal_crossing','doom']:\n",
    "        subpath = os.path.join(folder,sub)\n",
    "        for file in os.listdir(subpath):\n",
    "            f = os.path.join(subpath,file)\n",
    "            if file not in flist:\n",
    "                os.remove(f)"
   ]
  },
  {
   "cell_type": "code",
   "execution_count": 9,
   "id": "4b1d620a",
   "metadata": {},
   "outputs": [],
   "source": [
    "removeFilesNotInList(train,'.\\\\train_images')\n",
    "removeFilesNotInList(test,'.\\\\test_images')"
   ]
  },
  {
   "cell_type": "markdown",
   "id": "8bd16634",
   "metadata": {},
   "source": [
    "Now let's load our training images into tensorflow."
   ]
  },
  {
   "cell_type": "code",
   "execution_count": 10,
   "id": "b5a2ce19",
   "metadata": {},
   "outputs": [
    {
     "name": "stdout",
     "output_type": "stream",
     "text": [
      "Found 1276 files belonging to 2 classes.\n"
     ]
    }
   ],
   "source": [
    "train_ds = image_dataset_from_directory('.\\\\train_images',image_size=(180,180),\n",
    "                                       batch_size=32)"
   ]
  },
  {
   "cell_type": "markdown",
   "id": "27b30af8",
   "metadata": {},
   "source": [
    "And now our testing dataset"
   ]
  },
  {
   "cell_type": "code",
   "execution_count": 11,
   "id": "efb2605c",
   "metadata": {},
   "outputs": [
    {
     "name": "stdout",
     "output_type": "stream",
     "text": [
      "Found 318 files belonging to 2 classes.\n"
     ]
    }
   ],
   "source": [
    "test_ds = image_dataset_from_directory('.\\\\test_images',image_size=(180,180),\n",
    "                                       batch_size=32)"
   ]
  },
  {
   "cell_type": "markdown",
   "id": "e1b04983",
   "metadata": {},
   "source": [
    "Let's assign our class names "
   ]
  },
  {
   "cell_type": "code",
   "execution_count": 12,
   "id": "53ff6286",
   "metadata": {},
   "outputs": [],
   "source": [
    "class_names = train_ds.class_names"
   ]
  },
  {
   "cell_type": "markdown",
   "id": "b819ea7f",
   "metadata": {},
   "source": [
    "Now let's create our model"
   ]
  },
  {
   "cell_type": "code",
   "execution_count": 13,
   "id": "f69bf46d",
   "metadata": {},
   "outputs": [
    {
     "data": {
      "text/plain": [
       "<BatchDataset element_spec=(TensorSpec(shape=(None, 180, 180, 3), dtype=tf.float32, name=None), TensorSpec(shape=(None,), dtype=tf.int32, name=None))>"
      ]
     },
     "execution_count": 13,
     "metadata": {},
     "output_type": "execute_result"
    }
   ],
   "source": [
    "train_ds"
   ]
  },
  {
   "cell_type": "code",
   "execution_count": 14,
   "id": "db4f62b5",
   "metadata": {},
   "outputs": [],
   "source": [
    "model = models.Sequential()\n",
    "model.add(layers.Rescaling(1./255))\n",
    "model.add(layers.Conv2D(32, (3, 3), activation='relu', input_shape=(180, 180, 3)))\n",
    "model.add(layers.MaxPooling2D((3, 3)))\n",
    "model.add(layers.Conv2D(64, (3, 3), activation='relu'))\n",
    "model.add(layers.MaxPooling2D((3, 3)))\n",
    "model.add(layers.Conv2D(32, (3, 3), activation='relu'))"
   ]
  },
  {
   "cell_type": "code",
   "execution_count": 15,
   "id": "e2ba5406",
   "metadata": {},
   "outputs": [],
   "source": [
    "model.add(layers.Flatten())\n",
    "model.add(layers.Dense(32,activation='softmax'))\n",
    "model.add(layers.Dense(2))"
   ]
  },
  {
   "cell_type": "code",
   "execution_count": 16,
   "id": "be3d328e",
   "metadata": {},
   "outputs": [
    {
     "name": "stdout",
     "output_type": "stream",
     "text": [
      "Epoch 1/5\n",
      "40/40 [==============================] - 14s 314ms/step - loss: 0.6675 - accuracy: 0.6176\n",
      "Epoch 2/5\n",
      "40/40 [==============================] - 14s 328ms/step - loss: 0.6339 - accuracy: 0.6951\n",
      "Epoch 3/5\n",
      "40/40 [==============================] - 14s 325ms/step - loss: 0.6041 - accuracy: 0.7328\n",
      "Epoch 4/5\n",
      "40/40 [==============================] - 14s 329ms/step - loss: 0.5828 - accuracy: 0.7539\n",
      "Epoch 5/5\n",
      "40/40 [==============================] - 14s 325ms/step - loss: 0.5876 - accuracy: 0.7304\n"
     ]
    }
   ],
   "source": [
    "model.compile(optimizer='adam',\n",
    "             loss=tf.keras.losses.SparseCategoricalCrossentropy(from_logits=True),\n",
    "             metrics=['accuracy'])\n",
    "history =  model.fit(train_ds,epochs=5)"
   ]
  },
  {
   "cell_type": "code",
   "execution_count": 17,
   "id": "0ab13c65",
   "metadata": {},
   "outputs": [
    {
     "name": "stdout",
     "output_type": "stream",
     "text": [
      "Model: \"sequential\"\n",
      "_________________________________________________________________\n",
      " Layer (type)                Output Shape              Param #   \n",
      "=================================================================\n",
      " rescaling (Rescaling)       (None, 180, 180, 3)       0         \n",
      "                                                                 \n",
      " conv2d (Conv2D)             (None, 178, 178, 32)      896       \n",
      "                                                                 \n",
      " max_pooling2d (MaxPooling2D  (None, 59, 59, 32)       0         \n",
      " )                                                               \n",
      "                                                                 \n",
      " conv2d_1 (Conv2D)           (None, 57, 57, 64)        18496     \n",
      "                                                                 \n",
      " max_pooling2d_1 (MaxPooling  (None, 19, 19, 64)       0         \n",
      " 2D)                                                             \n",
      "                                                                 \n",
      " conv2d_2 (Conv2D)           (None, 17, 17, 32)        18464     \n",
      "                                                                 \n",
      " flatten (Flatten)           (None, 9248)              0         \n",
      "                                                                 \n",
      " dense (Dense)               (None, 32)                295968    \n",
      "                                                                 \n",
      " dense_1 (Dense)             (None, 2)                 66        \n",
      "                                                                 \n",
      "=================================================================\n",
      "Total params: 333,890\n",
      "Trainable params: 333,890\n",
      "Non-trainable params: 0\n",
      "_________________________________________________________________\n"
     ]
    }
   ],
   "source": [
    "model.summary()"
   ]
  },
  {
   "cell_type": "code",
   "execution_count": 18,
   "id": "ae637bce",
   "metadata": {},
   "outputs": [
    {
     "name": "stdout",
     "output_type": "stream",
     "text": [
      "10/10 [==============================] - 2s 72ms/step\n"
     ]
    }
   ],
   "source": [
    "predictions = model.predict(test_ds)"
   ]
  },
  {
   "cell_type": "code",
   "execution_count": 19,
   "id": "26aaa31c",
   "metadata": {},
   "outputs": [
    {
     "name": "stdout",
     "output_type": "stream",
     "text": [
      "10/10 [==============================] - 2s 70ms/step - loss: 0.5591 - accuracy: 0.7642\n"
     ]
    },
    {
     "data": {
      "text/plain": [
       "[0.5590914487838745, 0.7641509175300598]"
      ]
     },
     "execution_count": 19,
     "metadata": {},
     "output_type": "execute_result"
    }
   ],
   "source": [
    "model.evaluate(test_ds)"
   ]
  },
  {
   "cell_type": "code",
   "execution_count": 20,
   "id": "1639680b",
   "metadata": {},
   "outputs": [
    {
     "data": {
      "text/plain": [
       "array([[-0.15519017,  0.49576184],\n",
       "       [ 0.02938347,  0.18104464],\n",
       "       [-0.15437633,  0.49372667],\n",
       "       [ 0.33257258, -0.32427335],\n",
       "       [-0.1494257 ,  0.48085812],\n",
       "       [-0.15519089,  0.4957601 ],\n",
       "       [ 0.39517793, -0.42571092],\n",
       "       [-0.15519017,  0.49576184],\n",
       "       [-0.1557341 ,  0.49413642],\n",
       "       [-0.15526241,  0.49557814],\n",
       "       [-0.1552152 ,  0.4957047 ],\n",
       "       [-0.15519017,  0.49576184],\n",
       "       [ 0.1703845 , -0.0540685 ],\n",
       "       [ 0.39663902, -0.42760956],\n",
       "       [-0.06593987,  0.33815762],\n",
       "       [-0.15364523,  0.49153283],\n",
       "       [ 0.39417115, -0.42441857],\n",
       "       [-0.15407479,  0.49310717],\n",
       "       [-0.15520927,  0.4953623 ],\n",
       "       [-0.15519068,  0.4957609 ],\n",
       "       [-0.15519029,  0.49576157],\n",
       "       [-0.15519027,  0.4957616 ],\n",
       "       [-0.08232725,  0.3044012 ],\n",
       "       [ 0.39440098, -0.42475563],\n",
       "       [ 0.22428319, -0.14177024],\n",
       "       [-0.15519017,  0.49576184],\n",
       "       [-0.15519017,  0.49576184],\n",
       "       [ 0.39534009, -0.425946  ],\n",
       "       [ 0.39348307, -0.4234881 ],\n",
       "       [-0.15088812,  0.4869075 ],\n",
       "       [ 0.38480598, -0.41068435],\n",
       "       [ 0.27331328, -0.22536293],\n",
       "       [-0.15519027,  0.4957616 ],\n",
       "       [ 0.37372988, -0.39450487],\n",
       "       [-0.15520829,  0.49571702],\n",
       "       [ 0.3942337 , -0.42454636],\n",
       "       [-0.15483554,  0.49466363],\n",
       "       [ 0.39448977, -0.4245187 ],\n",
       "       [-0.15519017,  0.49576184],\n",
       "       [ 0.39213955, -0.42168075],\n",
       "       [ 0.3889571 , -0.41730645],\n",
       "       [-0.15038551,  0.48762643],\n",
       "       [-0.0167495 ,  0.19922239],\n",
       "       [ 0.38975605, -0.41758147],\n",
       "       [-0.1555242 ,  0.49435315],\n",
       "       [ 0.3953257 , -0.42590135],\n",
       "       [ 0.38050342, -0.40358946],\n",
       "       [-0.15519017,  0.49576184],\n",
       "       [ 0.3895725 , -0.4170212 ],\n",
       "       [-0.07828167,  0.31418782],\n",
       "       [ 0.28932208, -0.25216898],\n",
       "       [ 0.29135972, -0.29072985],\n",
       "       [ 0.3954206 , -0.42602193],\n",
       "       [-0.15519017,  0.49576184],\n",
       "       [ 0.34126905, -0.34922263],\n",
       "       [ 0.39513853, -0.4256726 ],\n",
       "       [ 0.39588973, -0.42664957],\n",
       "       [-0.16820839,  0.42715856],\n",
       "       [-0.15519017,  0.49576184],\n",
       "       [ 0.3951757 , -0.42571235],\n",
       "       [ 0.36547405, -0.38998538],\n",
       "       [-0.15570503,  0.49466395],\n",
       "       [-0.15519017,  0.49576184],\n",
       "       [-0.15524858,  0.49563247],\n",
       "       [ 0.39217228, -0.4215576 ],\n",
       "       [-0.13026208,  0.33470306],\n",
       "       [-0.14558053,  0.4794842 ],\n",
       "       [-0.15519017,  0.49576184],\n",
       "       [ 0.39564982, -0.42609316],\n",
       "       [-0.15519606,  0.49575004],\n",
       "       [-0.1551905 ,  0.49576128],\n",
       "       [ 0.04145175,  0.14359957],\n",
       "       [-0.15519017,  0.49576184],\n",
       "       [-0.15519017,  0.49576184],\n",
       "       [-0.1551905 ,  0.49576128],\n",
       "       [ 0.39375764, -0.42376092],\n",
       "       [-0.15522325,  0.49567556],\n",
       "       [-0.15519017,  0.49576184],\n",
       "       [-0.10559542,  0.40249157],\n",
       "       [ 0.37077555, -0.3881747 ],\n",
       "       [-0.12509196,  0.43858606],\n",
       "       [-0.15519017,  0.49576184],\n",
       "       [ 0.36280802, -0.37809432],\n",
       "       [ 0.29532817, -0.32824454],\n",
       "       [ 0.3866296 , -0.41296944],\n",
       "       [-0.1552035 ,  0.49573672],\n",
       "       [ 0.3719238 , -0.39363185],\n",
       "       [ 0.1633032 , -0.08586004],\n",
       "       [-0.15519097,  0.4957583 ],\n",
       "       [-0.15318416,  0.48702538],\n",
       "       [-0.1321477 ,  0.2634315 ],\n",
       "       [-0.15519017,  0.49576184],\n",
       "       [-0.15519017,  0.49576184],\n",
       "       [-0.15519017,  0.49576184],\n",
       "       [ 0.37064153, -0.39230257],\n",
       "       [ 0.39574465, -0.42645562],\n",
       "       [-0.12799978,  0.456963  ],\n",
       "       [ 0.38010204, -0.40811557],\n",
       "       [-0.3058214 ,  0.20814556],\n",
       "       [-0.15458256,  0.49086967],\n",
       "       [ 0.39242658, -0.42168784],\n",
       "       [-0.15519017,  0.49576184],\n",
       "       [ 0.3945232 , -0.42486787],\n",
       "       [-0.15519017,  0.49576184],\n",
       "       [-0.15517306,  0.49569514],\n",
       "       [ 0.39492935, -0.42523384],\n",
       "       [-0.0303125 ,  0.28316784],\n",
       "       [ 0.3946763 , -0.42490593],\n",
       "       [ 0.39531273, -0.42585504],\n",
       "       [-0.21821699,  0.37491354],\n",
       "       [ 0.39556175, -0.42618132],\n",
       "       [ 0.392048  , -0.42139855],\n",
       "       [-0.13947637,  0.4570112 ],\n",
       "       [ 0.38147995, -0.404958  ],\n",
       "       [ 0.39316723, -0.4228339 ],\n",
       "       [ 0.35964113, -0.3660448 ],\n",
       "       [-0.15519017,  0.49576184],\n",
       "       [-0.15519017,  0.49576184],\n",
       "       [ 0.39671558, -0.42770547],\n",
       "       [-0.15507923,  0.49553707],\n",
       "       [-0.15519017,  0.49576184],\n",
       "       [ 0.34262782, -0.34343898],\n",
       "       [-0.1551902 ,  0.49576178],\n",
       "       [ 0.3850106 , -0.4125998 ],\n",
       "       [-0.155191  ,  0.49575976],\n",
       "       [-0.15518916,  0.49575853],\n",
       "       [ 0.39431873, -0.42463332],\n",
       "       [ 0.37938803, -0.404089  ],\n",
       "       [ 0.36245146, -0.38136646],\n",
       "       [ 0.3742796 , -0.3946833 ],\n",
       "       [ 0.39103574, -0.41905636],\n",
       "       [ 0.38837096, -0.41711906],\n",
       "       [ 0.39579964, -0.42651367],\n",
       "       [-0.15524256,  0.49564752],\n",
       "       [-0.15533674,  0.49538562],\n",
       "       [-0.0406608 ,  0.3194264 ],\n",
       "       [ 0.39539164, -0.42598075],\n",
       "       [ 0.38738427, -0.41558683],\n",
       "       [ 0.37733242, -0.39815402],\n",
       "       [-0.03322491,  0.3243229 ],\n",
       "       [ 0.3224649 , -0.3169139 ],\n",
       "       [-0.15519017,  0.49576184],\n",
       "       [-0.15519017,  0.49576184],\n",
       "       [-0.15519044,  0.4957612 ],\n",
       "       [-0.1551946 ,  0.4957526 ],\n",
       "       [-0.01619592,  0.24092174],\n",
       "       [-0.15526643,  0.49546248],\n",
       "       [-0.15519017,  0.49576184],\n",
       "       [ 0.39498973, -0.4254954 ],\n",
       "       [-0.15519512,  0.49575096],\n",
       "       [ 0.39136952, -0.42054883],\n",
       "       [-0.15519017,  0.49576184],\n",
       "       [ 0.04562563,  0.1560419 ],\n",
       "       [-0.15519017,  0.49576184],\n",
       "       [-0.15544328,  0.4945728 ],\n",
       "       [-0.15519017,  0.49576184],\n",
       "       [-0.15519017,  0.49576184],\n",
       "       [-0.15519017,  0.49576184],\n",
       "       [-0.15518154,  0.4957497 ],\n",
       "       [ 0.3870991 , -0.41453618],\n",
       "       [-0.21318415,  0.3448672 ],\n",
       "       [ 0.2319906 , -0.15280041],\n",
       "       [-0.1551905 ,  0.49574903],\n",
       "       [-0.15500689,  0.49002087],\n",
       "       [-0.15513876,  0.4956463 ],\n",
       "       [ 0.39043677, -0.41918132],\n",
       "       [ 0.3896752 , -0.41780898],\n",
       "       [-0.15519017,  0.49576184],\n",
       "       [-0.0064193 ,  0.23774928],\n",
       "       [-0.03658618,  0.2582982 ],\n",
       "       [-0.03425181,  0.32276216],\n",
       "       [-0.15519017,  0.49576184],\n",
       "       [-0.15519017,  0.49576184],\n",
       "       [-0.15519017,  0.49576184],\n",
       "       [-0.15519017,  0.49576184],\n",
       "       [ 0.3957288 , -0.42643523],\n",
       "       [-0.15518758,  0.4957582 ],\n",
       "       [ 0.3907634 , -0.4197203 ],\n",
       "       [-0.13702112,  0.4675137 ],\n",
       "       [-0.18189988,  0.30852595],\n",
       "       [-0.15519017,  0.49576184],\n",
       "       [ 0.37142882, -0.38898438],\n",
       "       [ 0.38993725, -0.41777745],\n",
       "       [ 0.36678672, -0.3832316 ],\n",
       "       [ 0.37670752, -0.39832994],\n",
       "       [ 0.39420962, -0.42447606],\n",
       "       [ 0.34886295, -0.35708484],\n",
       "       [-0.15519057,  0.49550974],\n",
       "       [ 0.39639583, -0.4272856 ],\n",
       "       [-0.15519169,  0.49575838],\n",
       "       [ 0.38980746, -0.41782102],\n",
       "       [-0.15539804,  0.49522313],\n",
       "       [-0.15519017,  0.49576184],\n",
       "       [ 0.35823336, -0.36520326],\n",
       "       [ 0.36796808, -0.3872796 ],\n",
       "       [ 0.3908931 , -0.41914085],\n",
       "       [-0.15519017,  0.49576184],\n",
       "       [-0.15519017,  0.49576184],\n",
       "       [-0.11495589,  0.425079  ],\n",
       "       [ 0.39171055, -0.42068332],\n",
       "       [ 0.38526556, -0.41082   ],\n",
       "       [-0.03895075,  0.3304168 ],\n",
       "       [ 0.39553088, -0.42618853],\n",
       "       [ 0.39312136, -0.4231294 ],\n",
       "       [-0.1551902 ,  0.49576172],\n",
       "       [-0.15519038,  0.49576142],\n",
       "       [ 0.3951545 , -0.42567062],\n",
       "       [ 0.39395195, -0.42409676],\n",
       "       [-0.15607935,  0.49385184],\n",
       "       [-0.1163785 ,  0.37248516],\n",
       "       [-0.03900108,  0.3281043 ],\n",
       "       [-0.15519127,  0.49575883],\n",
       "       [-0.15519452,  0.49573663],\n",
       "       [-0.15519017,  0.49576184],\n",
       "       [-0.1552364 ,  0.47173774],\n",
       "       [ 0.3872524 , -0.41518232],\n",
       "       [-0.10802552,  0.406545  ],\n",
       "       [-0.15519017,  0.49576184],\n",
       "       [ 0.39006808, -0.41849536],\n",
       "       [ 0.38547394, -0.41019455],\n",
       "       [-0.15519017,  0.49576184],\n",
       "       [-0.15519017,  0.49576184],\n",
       "       [ 0.37170213, -0.39721355],\n",
       "       [ 0.34059507, -0.34131873],\n",
       "       [-0.15519017,  0.49576184],\n",
       "       [-0.15476918,  0.49344215],\n",
       "       [-0.1551902 ,  0.49576178],\n",
       "       [-0.15519017,  0.49576184],\n",
       "       [-0.15519017,  0.49576184],\n",
       "       [-0.1552405 ,  0.49562615],\n",
       "       [-0.1551918 ,  0.4957539 ],\n",
       "       [-0.01498079,  0.21762866],\n",
       "       [-0.15519017,  0.49576184],\n",
       "       [ 0.12202431,  0.02515666],\n",
       "       [ 0.39503396, -0.42554078],\n",
       "       [-0.14493899,  0.25863224],\n",
       "       [-0.15519017,  0.49576184],\n",
       "       [ 0.39181647, -0.42044705],\n",
       "       [ 0.38758162, -0.41330743],\n",
       "       [ 0.3778848 , -0.39932755],\n",
       "       [-0.05939111,  0.32438403],\n",
       "       [ 0.39546144, -0.4260499 ],\n",
       "       [ 0.394983  , -0.4254662 ],\n",
       "       [ 0.3758171 , -0.40089   ],\n",
       "       [ 0.39491403, -0.42535886],\n",
       "       [-0.14536433,  0.48195222],\n",
       "       [-0.1551902 ,  0.49576133],\n",
       "       [-0.03696509,  0.3219574 ],\n",
       "       [ 0.38876826, -0.41681606],\n",
       "       [-0.15519017,  0.49576184],\n",
       "       [ 0.3886841 , -0.41728434],\n",
       "       [-0.01885961,  0.25153112],\n",
       "       [ 0.39243928, -0.42211565],\n",
       "       [ 0.39510515, -0.42555776],\n",
       "       [-0.15519018,  0.49576184],\n",
       "       [ 0.3923843 , -0.42160016],\n",
       "       [ 0.39165702, -0.42117825],\n",
       "       [-0.15519017,  0.49576184],\n",
       "       [-0.1484142 ,  0.4751212 ],\n",
       "       [-0.15803683,  0.48907828],\n",
       "       [ 0.39441743, -0.42472106],\n",
       "       [-0.15518492,  0.49575436],\n",
       "       [ 0.38906193, -0.41599852],\n",
       "       [ 0.3942048 , -0.42447925],\n",
       "       [ 0.39000812, -0.41823733],\n",
       "       [-0.10812443,  0.41323188],\n",
       "       [-0.15519017,  0.49576184],\n",
       "       [ 0.39353597, -0.42356846],\n",
       "       [-0.15519321,  0.49575344],\n",
       "       [ 0.38332996, -0.4068038 ],\n",
       "       [ 0.39379692, -0.4235641 ],\n",
       "       [ 0.35988516, -0.3774793 ],\n",
       "       [-0.15374298,  0.49272242],\n",
       "       [-0.15519017,  0.49576184],\n",
       "       [-0.11620534,  0.43407446],\n",
       "       [-0.03353983,  0.32397568],\n",
       "       [ 0.3595708 , -0.3714636 ],\n",
       "       [-0.15521975,  0.49562478],\n",
       "       [ 0.39288047, -0.42234918],\n",
       "       [-0.15519017,  0.49576184],\n",
       "       [ 0.39668885, -0.42767072],\n",
       "       [-0.15519017,  0.49576184],\n",
       "       [-0.15667245,  0.49295136],\n",
       "       [-0.15519017,  0.49576184],\n",
       "       [-0.19544438,  0.28361887],\n",
       "       [-0.15518966,  0.49576113],\n",
       "       [-0.15519018,  0.49576184],\n",
       "       [ 0.16951671, -0.05091963],\n",
       "       [ 0.39059   , -0.41944548],\n",
       "       [-0.15519017,  0.49576184],\n",
       "       [-0.1552063 ,  0.49565163],\n",
       "       [ 0.39600298, -0.42676896],\n",
       "       [-0.15519047,  0.49576133],\n",
       "       [ 0.39537343, -0.42597258],\n",
       "       [ 0.39530614, -0.42589688],\n",
       "       [-0.15519038,  0.49576148],\n",
       "       [ 0.39439598, -0.42468485],\n",
       "       [-0.15519017,  0.49576184],\n",
       "       [-0.14058754,  0.4013461 ],\n",
       "       [-0.16608462,  0.47515848],\n",
       "       [ 0.12119963,  0.01768705],\n",
       "       [-0.15519017,  0.49576184],\n",
       "       [-0.15519017,  0.49576184],\n",
       "       [ 0.3947024 , -0.4251227 ],\n",
       "       [ 0.3917142 , -0.42111257],\n",
       "       [ 0.16507182, -0.06279495],\n",
       "       [ 0.3955581 , -0.42615956],\n",
       "       [-0.15519017,  0.49576184],\n",
       "       [-0.15519017,  0.49576184],\n",
       "       [-0.1551902 ,  0.49576178],\n",
       "       [-0.15519626,  0.49573722],\n",
       "       [ 0.03207546,  0.17723736],\n",
       "       [ 0.39547905, -0.4261217 ],\n",
       "       [-0.1551899 ,  0.4957612 ],\n",
       "       [ 0.37435278, -0.3956243 ],\n",
       "       [ 0.39517337, -0.42571068],\n",
       "       [-0.15522137,  0.49540877],\n",
       "       [-0.1553341 ,  0.49542034]], dtype=float32)"
      ]
     },
     "execution_count": 20,
     "metadata": {},
     "output_type": "execute_result"
    }
   ],
   "source": [
    "predictions"
   ]
  },
  {
   "cell_type": "code",
   "execution_count": 21,
   "id": "d1476ec1",
   "metadata": {},
   "outputs": [],
   "source": [
    "predicted_class = np.amax(predictions)"
   ]
  },
  {
   "cell_type": "code",
   "execution_count": 22,
   "id": "b7abdbbf",
   "metadata": {},
   "outputs": [
    {
     "data": {
      "text/plain": [
       "318"
      ]
     },
     "execution_count": 22,
     "metadata": {},
     "output_type": "execute_result"
    }
   ],
   "source": [
    "len(predictions)"
   ]
  },
  {
   "cell_type": "code",
   "execution_count": 23,
   "id": "477d9aaf",
   "metadata": {},
   "outputs": [
    {
     "data": {
      "text/plain": [
       "<BatchDataset element_spec=(TensorSpec(shape=(None, 180, 180, 3), dtype=tf.float32, name=None), TensorSpec(shape=(None,), dtype=tf.int32, name=None))>"
      ]
     },
     "execution_count": 23,
     "metadata": {},
     "output_type": "execute_result"
    }
   ],
   "source": [
    "test_ds"
   ]
  },
  {
   "cell_type": "code",
   "execution_count": null,
   "id": "d5d08786",
   "metadata": {},
   "outputs": [],
   "source": []
  }
 ],
 "metadata": {
  "kernelspec": {
   "display_name": "Python 3 (ipykernel)",
   "language": "python",
   "name": "python3"
  },
  "language_info": {
   "codemirror_mode": {
    "name": "ipython",
    "version": 3
   },
   "file_extension": ".py",
   "mimetype": "text/x-python",
   "name": "python",
   "nbconvert_exporter": "python",
   "pygments_lexer": "ipython3",
   "version": "3.9.12"
  }
 },
 "nbformat": 4,
 "nbformat_minor": 5
}
